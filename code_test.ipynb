{
 "cells": [
  {
   "cell_type": "code",
   "execution_count": null,
   "metadata": {},
   "outputs": [],
   "source": [
    "import requests\n",
    "from bs4 import BeautifulSoup as bs\n",
    "import pandas as pd\n",
    "from datetime import datetime"
   ]
  },
  {
   "cell_type": "code",
   "execution_count": null,
   "metadata": {},
   "outputs": [],
   "source": [
    "raw = requests.get('http://syndication.enterprise.websiteidx.com/feeds/BoojCodeTest.xml')\n",
    "soup = bs(raw.content, features='xml')"
   ]
  },
  {
   "cell_type": "code",
   "execution_count": null,
   "metadata": {},
   "outputs": [],
   "source": [
    "def get_app_list(listing):\n",
    "    Appliances = listing.find('Appliances')\n",
    "    app_list = []\n",
    "    if Appliances != None:\n",
    "        for appliance in Appliances:\n",
    "            if appliance == '\\n':\n",
    "                continue\n",
    "            app_list.append(appliance.string)\n",
    "    return app_list"
   ]
  },
  {
   "cell_type": "code",
   "execution_count": null,
   "metadata": {},
   "outputs": [],
   "source": [
    "def get_room_list(listing):\n",
    "    Rooms = listing.find('Rooms')\n",
    "    room_list = []\n",
    "    if Rooms != None:\n",
    "        for room in Rooms:\n",
    "            if room == '\\n':\n",
    "                continue\n",
    "            room_list.append(room.string)\n",
    "    return room_list"
   ]
  },
  {
   "cell_type": "code",
   "execution_count": null,
   "metadata": {},
   "outputs": [],
   "source": [
    "def get_bathrooms(listing):\n",
    "    FullBathrooms = listing.find('FullBathrooms')\n",
    "    HalfBathrooms = listing.find('HalfBathrooms')\n",
    "    ThreeQuarterBathrooms = listing.find('ThreeQuarterBathrooms')\n",
    "    \n",
    "    bath_dic = {1: FullBathrooms, 0.5: HalfBathrooms, 0.75: ThreeQuarterBathrooms}\n",
    "    Bathrooms = 0 \n",
    "    for mult, bath in bath_dic.iteritems():\n",
    "        try:\n",
    "            Bathrooms += mult * int(bath.string)\n",
    "        except:\n",
    "            continue\n",
    "    return Bathrooms"
   ]
  },
  {
   "cell_type": "code",
   "execution_count": null,
   "metadata": {},
   "outputs": [],
   "source": [
    "df = pd.DataFrame(columns=['MlsId', 'MlsName', 'DateListed', 'StreetAddress', 'Price', 'Bedrooms', \n",
    "                           'Bathrooms', 'Appliances', 'Rooms', 'Description'])\n",
    "i = 0\n",
    "for listing in soup.find('Listings'):\n",
    "    i += 1\n",
    "    # skip every other listing since it is blank (due to structure of xml in combo with soup)\n",
    "    if i % 2 == 1:\n",
    "        continue\n",
    "    \n",
    "    DateListed = datetime.strptime( listing.find('DateListed').string , '%Y-%m-%d %H:%M:%S')\n",
    "    # filter only listings from 2016\n",
    "    if DateListed.year != 2016:\n",
    "        continue\n",
    "        \n",
    "    Description = listing.find('Description').string\n",
    "    # filter out listings not containing 'and' (assumes words like 'candid' that technically \\\n",
    "    # contain 'and' are supposed to be included)\n",
    "    if 'and' not in Description.lower():\n",
    "        continue\n",
    "    \n",
    "    # get reamaining info\n",
    "    MlsId = listing.find('MlsId').string\n",
    "    MlsName = listing.find('MlsName').string\n",
    "    StreetAddress = listing.find('StreetAddress').string\n",
    "    Price = listing.find('Price').string\n",
    "    Bedrooms = listing.find('Bedrooms').string\n",
    "    app_list = get_app_list(listing)\n",
    "    room_list = get_room_list(listing)\n",
    "    Bathrooms = get_bathrooms(listing)\n",
    "    \n",
    "    # add to dataframe\n",
    "    df = df.append({'MlsId': MlsId, 'MlsName': MlsName, 'DateListed': DateListed, \n",
    "                    'StreetAddress': StreetAddress, 'Price': Price, 'Bedrooms': Bedrooms, \n",
    "                    'Bathrooms': Bathrooms, 'Appliances': ', '.join(app_list), 'Rooms': ', '.join(room_list), \n",
    "                    'Description': Description[:200]}, ignore_index=True)\n",
    "    \n",
    "# sort by DateListed\n",
    "df.sort_values('DateListed')\n",
    "df.to_csv('output.csv', index=False)"
   ]
  },
  {
   "cell_type": "code",
   "execution_count": null,
   "metadata": {},
   "outputs": [],
   "source": []
  }
 ],
 "metadata": {
  "kernelspec": {
   "display_name": "Python 2",
   "language": "python",
   "name": "python2"
  },
  "language_info": {
   "codemirror_mode": {
    "name": "ipython",
    "version": 2
   },
   "file_extension": ".py",
   "mimetype": "text/x-python",
   "name": "python",
   "nbconvert_exporter": "python",
   "pygments_lexer": "ipython2",
   "version": "2.7.14"
  }
 },
 "nbformat": 4,
 "nbformat_minor": 2
}
